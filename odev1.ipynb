{
 "cells": [
  {
   "cell_type": "markdown",
   "id": "f06b3ec6",
   "metadata": {},
   "source": [
    "1.Bir listeyi düzleştiren (flatten) fonksiyon yazın. "
   ]
  },
  {
   "cell_type": "code",
   "execution_count": 9,
   "id": "5f5d4efb",
   "metadata": {},
   "outputs": [],
   "source": [
    "l = [1, 2], [\"One\", \"Ten\"],[4],[\"cat\", \"dog\"]"
   ]
  },
  {
   "cell_type": "code",
   "execution_count": 10,
   "id": "4c57baa2",
   "metadata": {},
   "outputs": [
    {
     "name": "stdout",
     "output_type": "stream",
     "text": [
      "[1, 2, 'One', 'Ten', 4, 'cat', 'dog']\n"
     ]
    }
   ],
   "source": [
    "flatlist=[]\n",
    "for sublist in l:\n",
    "    for element in sublist:\n",
    "        flatlist.append(element)\n",
    "print(flatlist)"
   ]
  },
  {
   "cell_type": "markdown",
   "id": "9fa434f4",
   "metadata": {},
   "source": [
    "2.Verilen listenin içindeki elemanları tersine döndüren bir fonksiyon yazın. Eğer listenin içindeki elemanlar da liste içeriyorsa onların elemanlarını da tersine döndürün"
   ]
  },
  {
   "cell_type": "code",
   "execution_count": 11,
   "id": "f08d1f22",
   "metadata": {},
   "outputs": [],
   "source": [
    "list= [[1, 2], [3, 4], [5, 6, 7]]"
   ]
  },
  {
   "cell_type": "code",
   "execution_count": 13,
   "id": "3794e352",
   "metadata": {},
   "outputs": [
    {
     "name": "stdout",
     "output_type": "stream",
     "text": [
      "[[5, 6, 7], [3, 4], [1, 2]]\n"
     ]
    }
   ],
   "source": [
    "def Ters(list): \n",
    "    list.reverse() \n",
    "    return list\n",
    "print(Ters(list))"
   ]
  },
  {
   "cell_type": "code",
   "execution_count": null,
   "id": "10eb5420",
   "metadata": {},
   "outputs": [],
   "source": []
  }
 ],
 "metadata": {
  "kernelspec": {
   "display_name": "Python 3",
   "language": "python",
   "name": "python3"
  },
  "language_info": {
   "codemirror_mode": {
    "name": "ipython",
    "version": 3
   },
   "file_extension": ".py",
   "mimetype": "text/x-python",
   "name": "python",
   "nbconvert_exporter": "python",
   "pygments_lexer": "ipython3",
   "version": "3.8.8"
  }
 },
 "nbformat": 4,
 "nbformat_minor": 5
}
